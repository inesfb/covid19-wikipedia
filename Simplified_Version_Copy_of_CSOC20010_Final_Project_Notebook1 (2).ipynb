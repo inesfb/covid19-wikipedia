{
  "cells": [
    {
      "cell_type": "markdown",
      "source": [
        "# Setup"
      ],
      "metadata": {
        "id": "34N56NeIZE38"
      }
    },
    {
      "cell_type": "code",
      "source": [
        "from google.colab import drive\n",
        "drive.mount('/content/drive')\n",
        "\n",
        "filepath = \"/content/drive/Shareddrives/CSOC20010_Final_Project\""
      ],
      "metadata": {
        "colab": {
          "base_uri": "https://localhost:8080/"
        },
        "id": "1mlRkPwpcgeA",
        "outputId": "ce830304-767b-4899-ee9b-41d313cc338c"
      },
      "execution_count": null,
      "outputs": [
        {
          "output_type": "stream",
          "name": "stdout",
          "text": [
            "Mounted at /content/drive\n"
          ]
        }
      ]
    },
    {
      "cell_type": "code",
      "execution_count": null,
      "metadata": {
        "id": "kwE_H-j0cEVn"
      },
      "outputs": [],
      "source": [
        "import requests\n",
        "import networkx as nx\n",
        "import pandas as pd\n",
        "\n",
        "\n",
        "#Source for this part of the code (edited): https://public.paws.wmcloud.org/47923684/Lab%202.ipynb\n",
        "\n",
        "S = requests.Session()\n",
        "\n",
        "def get_page_outlinks(page_title, redirects=0):\n",
        "  url = \"https://en.wikipedia.org/w/api.php\"\n",
        "\n",
        "  params = {\n",
        "      \"action\": \"query\",\n",
        "      \"format\": \"json\",\n",
        "      \"list\": \"backlinks\",\n",
        "      \"bltitle\": page_title,\n",
        "      \"bllimit\": \"250\",\n",
        "      \"blnamespace\": \"0\",\n",
        "      \"redirects\": redirects,\n",
        "      \"blredirects\": redirects\n",
        "  }\n",
        "\n",
        "  R = S.get(url=url, params=params)\n",
        "  data = R.json()\n",
        "\n",
        "  try:\n",
        "    blcontinue = data[\"continue\"][\"blcontinue\"]\n",
        "    backlinks = data[\"query\"][\"backlinks\"]\n",
        "    continue_search = data[\"continue\"][\"continue\"]\n",
        "  except KeyError:\n",
        "    backlinks = data[\"query\"][\"backlinks\"]\n",
        "    continue_search = None\n",
        "\n",
        "  back_links = []\n",
        "\n",
        "  for b in backlinks:\n",
        "      back_links.append(b[\"title\"])\n",
        "\n",
        "  while continue_search != None:\n",
        "    try:\n",
        "      params = {\n",
        "        \"action\": \"query\",\n",
        "        \"format\": \"json\",\n",
        "        \"list\": \"backlinks\",\n",
        "        \"continue\": continue_search,\n",
        "        \"bltitle\": \"COVID-19\",\n",
        "        \"bllimit\": \"250\",\n",
        "        \"blnamespace\": \"0\",\n",
        "        \"blcontinue\": blcontinue,\n",
        "        \"redirects\": redirects,\n",
        "        \"blredirect\": redirects\n",
        "      }\n",
        "      R = S.get(url=url, params=params)\n",
        "      data = R.json()\n",
        "      backlinks = data[\"query\"][\"backlinks\"]\n",
        "      for b in backlinks:\n",
        "        back_links.append(b[\"title\"])\n",
        "      blcontinue = data[\"continue\"][\"blcontinue\"]\n",
        "      continue_search = data[\"continue\"][\"continue\"]\n",
        "    except KeyError:\n",
        "      break\n",
        "  return back_links\n",
        "\n",
        "  \n",
        "\n",
        "def get_hyperlink_alters(seed_page):\n",
        "    # Initialize an empty dictionary to act as an adjacency \"list\"\n",
        "    neighbors = {}\n",
        "    \n",
        "    # Get all the alters for the seed page and store them in the adjacency dictionary\n",
        "    neighbors[seed_page] = get_page_outlinks(seed_page,1)\n",
        "    \n",
        "    # For each of the alters, get their alters and store in the adjacency dictionary\n",
        "    for neighbor in list(set(neighbors[seed_page])): # Don't recrawl duplicates\n",
        "        neighbors[neighbor] = get_page_outlinks(neighbor,0)\n",
        "    \n",
        "    # Initialize an empty graph that we will add nodes and edges into\n",
        "    g = nx.DiGraph()\n",
        "    \n",
        "    # For each entry in the adjacency dictionary, check if the alter's alters are also the seed page's alters\n",
        "    # If they are and the edge is already in the graph, increment the edge weight by one\n",
        "    # If they are but the edge is not already in the graph, add the edge with a weight of one\n",
        "    for article,neighbor_list in neighbors.items():\n",
        "        for neighbor in neighbor_list:\n",
        "            if neighbor in neighbors[seed_page] + [seed_page]:\n",
        "                if g.has_edge(article,neighbor):\n",
        "                    g[article][neighbor]['weight'] += 1\n",
        "                else:\n",
        "                    g.add_edge(article,neighbor,weight=1)\n",
        "    \n",
        "    # Return the weighted graph\n",
        "    return g"
      ]
    },
    {
      "cell_type": "code",
      "source": [],
      "metadata": {
        "id": "icA-UjYc51ky"
      },
      "execution_count": null,
      "outputs": []
    },
    {
      "cell_type": "markdown",
      "source": [
        "# Get links and create network"
      ],
      "metadata": {
        "id": "FhPB89RHZQcN"
      }
    },
    {
      "cell_type": "code",
      "source": [
        "import pandas as pd\n",
        "links = pd.read_csv(\"/content/drive/Shareddrives/CSOC20010_Final_Project/data/1. FIRST-DEGREE-BACKLINKS-WITH-IDS-quarry-62754-select-page-linking-to-covid-19-run625929.csv\")\n",
        "links = links.drop(['page_id'], axis=1)\n",
        "links = links.page_title.to_list()"
      ],
      "metadata": {
        "id": "brwJpRmxZUGh"
      },
      "execution_count": null,
      "outputs": []
    },
    {
      "cell_type": "code",
      "source": [
        "cats_graph = nx.read_adjlist(\"/content/drive/Shareddrives/CSOC20010_Final_Project/data/cats_adjacency_list.csv\", delimiter=\",\")"
      ],
      "metadata": {
        "id": "xvkMzmMmM_A8"
      },
      "execution_count": null,
      "outputs": []
    },
    {
      "cell_type": "markdown",
      "source": [
        "# Get categories of articles"
      ],
      "metadata": {
        "id": "3SRqGMy_ZeMY"
      }
    },
    {
      "cell_type": "code",
      "execution_count": null,
      "metadata": {
        "id": "pyPWJIyjOvqC"
      },
      "outputs": [],
      "source": [
        "category_page_titles = [\"Category-Class_geography_articles\", \"List-Class_history_articles\", \"Human_activities\", \\\n",
        "                        \"Society\", \"Mathematics\", \"Nature\", \"People\", \"Start-Class_Philosophy_articles\", \\\n",
        "                        \"_technology\", \"Vital_articles/Level/5/Biological_and_health_sciences/Health\"]\n",
        "#Reference, Religion, and Culture missing because they dissapeared from graph\n",
        "\n",
        "\n",
        "def category_readable(category):\n",
        "    cat_names = {\"Category-Class_geography_articles\": \"Geography\", \"List-Class_history_articles\": \"History\", \\\n",
        "    \"Human_activities\": \"Human activities\", \"Society\": \"Society\", \"Mathematics\": \"Mathematics\", \"Nature\": \"Nature\", \\\n",
        "    \"People\": \"People\", \"Start-Class_Philosophy_articles\":\"Philosophy\", \"_technology\": \"Technology\", \\\n",
        "    \"Vital_articles/Level/5/Biological_and_health_sciences/Health\": \"Health\", \"Uncategorized\": \"Uncategorized\"}\n",
        "    return(cat_names[category])\n",
        "\n",
        "#Gets an article's category based on shortest path\n",
        "def get_category(article):\n",
        "    path_lengths = {}\n",
        "    try:\n",
        "      for category in category_page_titles:\n",
        "        try:\n",
        "          path_length = len(nx.shortest_path(cats_graph, article, category))\n",
        "        except nx.NetworkXNoPath:\n",
        "          #NodeNotFound is source node\n",
        "          path_length = 1000\n",
        "        path_lengths[category] = path_length\n",
        "      category = min(path_lengths, key=path_lengths.get)\n",
        "    except nx.NodeNotFound:\n",
        "      category = \"Uncategorized\"\n",
        "    return(category_readable(category))\n",
        "\n",
        "#***If there is a tie, it returns whichever comes first in the dictionary. We may want to fix this depending on how common ties are***"
      ]
    },
    {
      "cell_type": "code",
      "execution_count": null,
      "metadata": {
        "id": "39qvUJWYKG4u"
      },
      "outputs": [],
      "source": [
        "#For loop that tallies articles per category\n",
        "\n",
        "categories = {\"Geography\": 0, \"History\": 0, \"Human activities\": 0, \"Society\": 0, \"Mathematics\": 0, \"Nature\": 0, \\\n",
        "     \"People\": 0, \"Philosophy\": 0, \"Technology\": 0, \"Health\": 0, \"Uncategorized\": 0, \"Religion\": 0, \"Reference\": 0, \"Culture\": 0}\n",
        "\n",
        "for article in links:\n",
        "    category = get_category(article)\n",
        "    categories[category] += 1"
      ]
    },
    {
      "cell_type": "markdown",
      "source": [
        "# Graph"
      ],
      "metadata": {
        "id": "_yRufwSGZqd3"
      }
    },
    {
      "cell_type": "code",
      "execution_count": null,
      "metadata": {
        "id": "Gkv6CyCLx-LO",
        "colab": {
          "base_uri": "https://localhost:8080/",
          "height": 295
        },
        "outputId": "f731a9af-788b-4dc6-dc70-9c53d9ef7aa8"
      },
      "outputs": [
        {
          "output_type": "display_data",
          "data": {
            "text/plain": [
              "<Figure size 432x288 with 1 Axes>"
            ],
            "image/png": "[encoded data removed]"
          },
          "metadata": {
            "needs_background": "light"
          }
        }
      ],
      "source": [
        "import matplotlib.pyplot as plt\n",
        "plt.barh(list(categories.keys()), list(categories.values()))\n",
        "plt.xlabel('Number of articles')\n",
        "plt.title('Articles linking to Covid-19 Page by Category')\n",
        "plt.savefig(\"/content/drive/Shareddrives/CSOC20010_Final_Project/category_distribution.png\", dpi=300, \\\n",
        "            bbox_inches = \"tight\")"
      ]
    },
    {
      "cell_type": "code",
      "source": [
        "print(categories)"
      ],
      "metadata": {
        "colab": {
          "base_uri": "https://localhost:8080/"
        },
        "id": "tDHEYeyRatKi",
        "outputId": "3270dc95-0476-4655-8558-27f9d231b358"
      },
      "execution_count": null,
      "outputs": [
        {
          "output_type": "stream",
          "name": "stdout",
          "text": [
            "{'Geography': 2151, 'History': 4208, 'Human activities': 31, 'Society': 2, 'Mathematics': 0, 'Nature': 0, 'People': 0, 'Philosophy': 2, 'Technology': 141, 'Health': 1, 'Uncategorized': 486, 'Religion': 0, 'Reference': 0, 'Culture': 0}\n"
          ]
        }
      ]
    },
    {
      "cell_type": "markdown",
      "source": [
        "## What might have gone wrong:\n",
        "\n",
        "* We got the first-neighbour backlinks from the live database, while we got the categorylinks from the backup page, and in accounting for this some backlnk page data may have been lost during the data cleaning phase\n",
        "\n",
        "* Could also be a junk page which we did not remove. (Lots of pages may link to history/geography via a maintenance page which was not removed in the data cleanup)\n",
        "\n",
        "* We used a random subset of the data which made up approximately 30% of all first neighbour nodes, which may have been biased towards history or geography.\n",
        "\n",
        "* There is a chance that most of the articles in our subset are in some way about history or geography."
      ],
      "metadata": {
        "id": "X9bZoQeNbe48"
      }
    },
    {
      "cell_type": "markdown",
      "source": [
        "## How would we improve\n",
        "\n",
        "* More RAM.\n",
        "\n",
        "* Use data from the same time period\n",
        "\n",
        "* Use the entire dataset rather than a random subset to better show the distribution of categories.\n",
        "\n",
        "* Check if the distribution of an article categories in all articles related to COVID-19 mirrors the distribution of article categories across Wikipedia"
      ],
      "metadata": {
        "id": "_XMqCP9kdIOh"
      }
    }
  ],
  "metadata": {
    "colab": {
      "provenance": []
    },
    "kernelspec": {
      "display_name": "Python 3",
      "name": "python3"
    },
    "language_info": {
      "name": "python"
    }
  },
  "nbformat": 4,
  "nbformat_minor": 0
}